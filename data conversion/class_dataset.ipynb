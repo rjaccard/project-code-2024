{
 "cells": [
  {
   "cell_type": "code",
   "execution_count": 25,
   "id": "43e2cf73-db48-400e-8d9c-3ce8575bebdc",
   "metadata": {},
   "outputs": [
    {
     "name": "stderr",
     "output_type": "stream",
     "text": [
      "/Users/jdidio/kDrive/EPFL/Master - DS/MA4/MNLP/project-code-2024/.venv/lib/python3.11/site-packages/tqdm/auto.py:21: TqdmWarning: IProgress not found. Please update jupyter and ipywidgets. See https://ipywidgets.readthedocs.io/en/stable/user_install.html\n",
      "  from .autonotebook import tqdm as notebook_tqdm\n"
     ]
    }
   ],
   "source": [
    "import json\n",
    "import random\n",
    "from datasets import load_dataset"
   ]
  },
  {
   "cell_type": "code",
   "execution_count": 2,
   "id": "e37dff87-959c-40b7-8371-6f7f5c2aa10a",
   "metadata": {},
   "outputs": [],
   "source": [
    "# Open the JSON file\n",
    "with open('../datasets/M1_preference_data_15052024.json', 'r') as f:\n",
    "    data = json.load(f)"
   ]
  },
  {
   "cell_type": "code",
   "execution_count": 3,
   "id": "a83aa4ad-4d97-49f6-8e8c-31607df2a7b0",
   "metadata": {},
   "outputs": [
    {
     "data": {
      "text/plain": [
       "26738"
      ]
     },
     "execution_count": 3,
     "metadata": {},
     "output_type": "execute_result"
    }
   ],
   "source": [
    "count = 0\n",
    "for i in data:\n",
    "    count += len(i['preference'])\n",
    "\n",
    "count"
   ]
  },
  {
   "cell_type": "code",
   "execution_count": 4,
   "id": "594302e0-9248-4060-b0af-d93cd6e0d5f4",
   "metadata": {},
   "outputs": [],
   "source": [
    "count = 0\n",
    "for i in data:\n",
    "    if \"Options:\" in i['question_complete']:\n",
    "        count += 1"
   ]
  },
  {
   "cell_type": "code",
   "execution_count": 5,
   "id": "f27e19aa-ea91-4de3-830c-b9fc98658961",
   "metadata": {},
   "outputs": [
    {
     "data": {
      "text/plain": [
       "792"
      ]
     },
     "execution_count": 5,
     "metadata": {},
     "output_type": "execute_result"
    }
   ],
   "source": [
    "count"
   ]
  },
  {
   "cell_type": "code",
   "execution_count": 6,
   "id": "634fd9b5-a8e3-4062-b913-6629c96cf377",
   "metadata": {},
   "outputs": [],
   "source": [
    "# Create a list to store individual preferences\n",
    "preferences_train = []\n",
    "preferences_test = []\n",
    "# Extract preference items from the data\n",
    "for question in data:\n",
    "    size = len(question['preference'])\n",
    "    test = random.randint(0, size - 1)\n",
    "    for count, preference_item in enumerate(question['preference']):\n",
    "        if count == test:\n",
    "            if preference_item['overall'] == 'A':\n",
    "                preferences_test.append({\n",
    "                    'prompt': question['question_complete'],\n",
    "                    'chosen': preference_item['A'],\n",
    "                    'rejected': preference_item['B'],\n",
    "                })\n",
    "            elif preference_item['overall'] == 'B':\n",
    "                preferences_test.append({\n",
    "                    'prompt': question['question_complete'],\n",
    "                    'chosen': preference_item['B'],\n",
    "                    'rejected': preference_item['A'],\n",
    "                })\n",
    "            else:\n",
    "                print(preference_item['overall'])\n",
    "\n",
    "        else:\n",
    "            if preference_item['overall'] == 'A':\n",
    "                preferences_train.append({\n",
    "                    'prompt': question['question_complete'],\n",
    "                    'chosen': preference_item['A'],\n",
    "                    'rejected': preference_item['B'],\n",
    "                })\n",
    "            elif preference_item['overall'] == 'B':\n",
    "                preferences_train.append({\n",
    "                    'prompt': question['question_complete'],\n",
    "                    'chosen': preference_item['B'],\n",
    "                    'rejected': preference_item['A'],\n",
    "                })\n",
    "            else:\n",
    "                print(preference_item['overall'])"
   ]
  },
  {
   "cell_type": "code",
   "execution_count": 7,
   "id": "ec3452ee-292c-442d-b83e-7eafeea6908b",
   "metadata": {},
   "outputs": [
    {
     "data": {
      "text/plain": [
       "25216"
      ]
     },
     "execution_count": 7,
     "metadata": {},
     "output_type": "execute_result"
    }
   ],
   "source": [
    "len(preferences_train)"
   ]
  },
  {
   "cell_type": "code",
   "execution_count": 8,
   "id": "24c82ef5-db7e-4775-8e0c-f28b82307466",
   "metadata": {},
   "outputs": [
    {
     "data": {
      "text/plain": [
       "1522"
      ]
     },
     "execution_count": 8,
     "metadata": {},
     "output_type": "execute_result"
    }
   ],
   "source": [
    "len(preferences_test)"
   ]
  },
  {
   "cell_type": "code",
   "execution_count": 9,
   "id": "38c03185-df4a-4c9c-8b69-defec2a83890",
   "metadata": {},
   "outputs": [],
   "source": [
    "# Write the preferences to a jsonl file\n",
    "with open('../datasets/class_train.jsonl', 'w') as file:\n",
    "    for preference in preferences_train:\n",
    "        file.write(json.dumps(preference) + '\\n')"
   ]
  },
  {
   "cell_type": "code",
   "execution_count": 10,
   "id": "3a13ba9a-24d2-4cc1-97b3-06f6fb84bb8f",
   "metadata": {},
   "outputs": [],
   "source": [
    "# Write the preferences to a jsonl file\n",
    "with open('../datasets/class_test.jsonl', 'w') as file:\n",
    "    for preference in preferences_test:\n",
    "        file.write(json.dumps(preference) + '\\n')"
   ]
  },
  {
   "cell_type": "markdown",
   "id": "10bb4387",
   "metadata": {},
   "source": [
    "## SFT dataset"
   ]
  },
  {
   "cell_type": "code",
   "execution_count": 43,
   "id": "c09e1a4e",
   "metadata": {},
   "outputs": [],
   "source": [
    "train = load_dataset('json', data_files='../datasets/class_train.jsonl')"
   ]
  },
  {
   "cell_type": "code",
   "execution_count": 44,
   "id": "c9f1c100",
   "metadata": {},
   "outputs": [],
   "source": [
    "def transform_to_sft(examples):\n",
    "    return {\"question\": examples[\"prompt\"], \"answer\": examples[\"chosen\"]}"
   ]
  },
  {
   "cell_type": "code",
   "execution_count": 45,
   "id": "32d0859a",
   "metadata": {},
   "outputs": [
    {
     "name": "stderr",
     "output_type": "stream",
     "text": [
      "Saving the dataset (1/1 shards): 100%|██████████| 22694/22694 [00:00<00:00, 374401.28 examples/s]\n",
      "Saving the dataset (1/1 shards): 100%|██████████| 2522/2522 [00:00<00:00, 317668.24 examples/s]\n"
     ]
    }
   ],
   "source": [
    "train = train.map(transform_to_sft, batched=True, remove_columns=[\"prompt\", \"chosen\", \"rejected\"]).shuffle(seed=42)\n",
    "split = train['train'].train_test_split(test_size=0.1)\n",
    "split.save_to_disk('../datasets/class_sft_datasetdict')"
   ]
  },
  {
   "cell_type": "code",
   "execution_count": null,
   "id": "5bd7832b",
   "metadata": {},
   "outputs": [],
   "source": []
  }
 ],
 "metadata": {
  "kernelspec": {
   "display_name": "Python 3 (ipykernel)",
   "language": "python",
   "name": "python3"
  },
  "language_info": {
   "codemirror_mode": {
    "name": "ipython",
    "version": 3
   },
   "file_extension": ".py",
   "mimetype": "text/x-python",
   "name": "python",
   "nbconvert_exporter": "python",
   "pygments_lexer": "ipython3",
   "version": "3.11.8"
  }
 },
 "nbformat": 4,
 "nbformat_minor": 5
}
